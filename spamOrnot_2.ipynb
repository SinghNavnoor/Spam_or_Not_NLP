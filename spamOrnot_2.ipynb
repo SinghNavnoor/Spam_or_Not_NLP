{
 "cells": [
  {
   "cell_type": "code",
   "execution_count": 1,
   "metadata": {},
   "outputs": [
    {
     "data": {
      "text/html": [
       "<div>\n",
       "<style scoped>\n",
       "    .dataframe tbody tr th:only-of-type {\n",
       "        vertical-align: middle;\n",
       "    }\n",
       "\n",
       "    .dataframe tbody tr th {\n",
       "        vertical-align: top;\n",
       "    }\n",
       "\n",
       "    .dataframe thead th {\n",
       "        text-align: right;\n",
       "    }\n",
       "</style>\n",
       "<table border=\"1\" class=\"dataframe\">\n",
       "  <thead>\n",
       "    <tr style=\"text-align: right;\">\n",
       "      <th></th>\n",
       "      <th>text</th>\n",
       "      <th>spam</th>\n",
       "    </tr>\n",
       "  </thead>\n",
       "  <tbody>\n",
       "    <tr>\n",
       "      <th>0</th>\n",
       "      <td>Subject: naturally irresistible your corporate...</td>\n",
       "      <td>1</td>\n",
       "    </tr>\n",
       "    <tr>\n",
       "      <th>1</th>\n",
       "      <td>Subject: the stock trading gunslinger  fanny i...</td>\n",
       "      <td>1</td>\n",
       "    </tr>\n",
       "    <tr>\n",
       "      <th>2</th>\n",
       "      <td>Subject: unbelievable new homes made easy  im ...</td>\n",
       "      <td>1</td>\n",
       "    </tr>\n",
       "    <tr>\n",
       "      <th>3</th>\n",
       "      <td>Subject: 4 color printing special  request add...</td>\n",
       "      <td>1</td>\n",
       "    </tr>\n",
       "    <tr>\n",
       "      <th>4</th>\n",
       "      <td>Subject: do not have money , get software cds ...</td>\n",
       "      <td>1</td>\n",
       "    </tr>\n",
       "  </tbody>\n",
       "</table>\n",
       "</div>"
      ],
      "text/plain": [
       "                                                text  spam\n",
       "0  Subject: naturally irresistible your corporate...     1\n",
       "1  Subject: the stock trading gunslinger  fanny i...     1\n",
       "2  Subject: unbelievable new homes made easy  im ...     1\n",
       "3  Subject: 4 color printing special  request add...     1\n",
       "4  Subject: do not have money , get software cds ...     1"
      ]
     },
     "execution_count": 1,
     "metadata": {},
     "output_type": "execute_result"
    }
   ],
   "source": [
    "import pandas as pd \n",
    "email = pd.read_csv('emails.csv', encoding = \"ISO-8859-1\")\n",
    "\n",
    "email.head()"
   ]
  },
  {
   "cell_type": "code",
   "execution_count": 2,
   "metadata": {},
   "outputs": [
    {
     "data": {
      "text/plain": [
       "text    0\n",
       "spam    0\n",
       "dtype: int64"
      ]
     },
     "execution_count": 2,
     "metadata": {},
     "output_type": "execute_result"
    }
   ],
   "source": [
    "email.isna().sum()"
   ]
  },
  {
   "cell_type": "code",
   "execution_count": 3,
   "metadata": {},
   "outputs": [
    {
     "name": "stdout",
     "output_type": "stream",
     "text": [
      "<class 'pandas.core.frame.DataFrame'>\n",
      "RangeIndex: 5728 entries, 0 to 5727\n",
      "Data columns (total 2 columns):\n",
      " #   Column  Non-Null Count  Dtype \n",
      "---  ------  --------------  ----- \n",
      " 0   text    5728 non-null   object\n",
      " 1   spam    5728 non-null   int64 \n",
      "dtypes: int64(1), object(1)\n",
      "memory usage: 89.6+ KB\n"
     ]
    }
   ],
   "source": [
    "email.info()"
   ]
  },
  {
   "cell_type": "markdown",
   "metadata": {},
   "source": [
    "Data Cleaning."
   ]
  },
  {
   "cell_type": "code",
   "execution_count": 4,
   "metadata": {},
   "outputs": [],
   "source": [
    "import re\n",
    "import string\n",
    "\n",
    "def clean_text(text):\n",
    "    text = text.lower()\n",
    "    text = re.sub('\\[.*?\\]', '', text)\n",
    "    text = re.sub('[%s]' %re.escape(string.punctuation), '', text)\n",
    "    text = re.sub('\\w*\\d\\w*', '', text)\n",
    "    text = re.sub('[0-9\" \"]+', \" \", text)\n",
    "    text = re.sub('[''\"\"...]', '', text)\n",
    "    return text\n",
    "\n",
    "clean= lambda x: clean_text(x)"
   ]
  },
  {
   "cell_type": "code",
   "execution_count": 5,
   "metadata": {},
   "outputs": [
    {
     "data": {
      "text/plain": [
       "0       subject naturally irresistible your corporate ...\n",
       "1       subject the stock trading gunslinger fanny is ...\n",
       "2       subject unbelievable new homes made easy im wa...\n",
       "3       subject color printing special request additio...\n",
       "4       subject do not have money get software cds fro...\n",
       "                              ...                        \n",
       "5723    subject re research and development charges to...\n",
       "5724    subject re receipts from visit jim thanks agai...\n",
       "5725    subject re enron case study update wow all on ...\n",
       "5726    subject re interest david please call shirley ...\n",
       "5727    subject news aurora update aurora version the ...\n",
       "Name: text, Length: 5728, dtype: object"
      ]
     },
     "execution_count": 5,
     "metadata": {},
     "output_type": "execute_result"
    }
   ],
   "source": [
    "email['text'] = email.text.apply(clean)\n",
    "email.text"
   ]
  },
  {
   "cell_type": "markdown",
   "metadata": {},
   "source": [
    "Word Frequency"
   ]
  },
  {
   "cell_type": "code",
   "execution_count": 6,
   "metadata": {},
   "outputs": [
    {
     "data": {
      "text/plain": [
       "the        50082\n",
       "to         41716\n",
       "and        27467\n",
       "of         23741\n",
       "a          19937\n",
       "you        19147\n",
       "in         17965\n",
       "i          17416\n",
       "for        16690\n",
       "enron      13218\n",
       "on         12710\n",
       "is         12584\n",
       "ect        11410\n",
       "subject    10170\n",
       "this       10027\n",
       "that        9283\n",
       "your        9273\n",
       "be          9259\n",
       "with        8851\n",
       "we          8683\n",
       "dtype: int64"
      ]
     },
     "execution_count": 6,
     "metadata": {},
     "output_type": "execute_result"
    }
   ],
   "source": [
    "word_freq = pd.Series(' '.join(email['text']).split()).value_counts()[:20]\n",
    "word_freq"
   ]
  },
  {
   "cell_type": "markdown",
   "metadata": {},
   "source": [
    "Stopwords Removal"
   ]
  },
  {
   "cell_type": "code",
   "execution_count": 7,
   "metadata": {},
   "outputs": [],
   "source": [
    "from nltk.corpus import stopwords\n",
    "stop = stopwords.words('english')\n",
    "email['text'] = email['text'].apply(lambda x: \" \".join(x for x in x.split() if x not in stop))\n"
   ]
  },
  {
   "cell_type": "code",
   "execution_count": 8,
   "metadata": {},
   "outputs": [
    {
     "data": {
      "text/plain": [
       "enron          13218\n",
       "ect            11410\n",
       "subject        10170\n",
       "vince           8420\n",
       "hou             5577\n",
       "com             5269\n",
       "please          4963\n",
       "kaminski        4659\n",
       "would           4424\n",
       "cc              3896\n",
       "j               3647\n",
       "pm              3286\n",
       "research        2733\n",
       "time            2731\n",
       "thanks          2583\n",
       "know            2545\n",
       "may             2461\n",
       "group           2373\n",
       "information     2293\n",
       "new             2275\n",
       "dtype: int64"
      ]
     },
     "execution_count": 8,
     "metadata": {},
     "output_type": "execute_result"
    }
   ],
   "source": [
    "word_freq_stopword = pd.Series(' '.join(email['text']).split()).value_counts()[:20]\n",
    "word_freq_stopword"
   ]
  },
  {
   "cell_type": "markdown",
   "metadata": {},
   "source": [
    "Count Vectorizer"
   ]
  },
  {
   "cell_type": "code",
   "execution_count": 9,
   "metadata": {},
   "outputs": [],
   "source": [
    "from sklearn.feature_extraction.text import CountVectorizer\n",
    "import numpy as np \n",
    "vectorizer = CountVectorizer(min_df = 0.1, max_df= 0.9)\n",
    "X = vectorizer.fit_transform(email['text'])\n",
    "word_freq_df = pd.DataFrame({'term':vectorizer.get_feature_names(), 'occurrences': np.asarray(X.sum(axis=0)).ravel().tolist()})\n",
    "word_freq_df['frequency'] = word_freq_df['occurrences']/np.sum(word_freq_df['occurrences'])\n"
   ]
  },
  {
   "cell_type": "code",
   "execution_count": 10,
   "metadata": {},
   "outputs": [
    {
     "data": {
      "text/html": [
       "<div>\n",
       "<style scoped>\n",
       "    .dataframe tbody tr th:only-of-type {\n",
       "        vertical-align: middle;\n",
       "    }\n",
       "\n",
       "    .dataframe tbody tr th {\n",
       "        vertical-align: top;\n",
       "    }\n",
       "\n",
       "    .dataframe thead th {\n",
       "        text-align: right;\n",
       "    }\n",
       "</style>\n",
       "<table border=\"1\" class=\"dataframe\">\n",
       "  <thead>\n",
       "    <tr style=\"text-align: right;\">\n",
       "      <th></th>\n",
       "      <th>term</th>\n",
       "      <th>occurrences</th>\n",
       "      <th>frequency</th>\n",
       "    </tr>\n",
       "  </thead>\n",
       "  <tbody>\n",
       "    <tr>\n",
       "      <th>0</th>\n",
       "      <td>also</td>\n",
       "      <td>1863</td>\n",
       "      <td>0.010000</td>\n",
       "    </tr>\n",
       "    <tr>\n",
       "      <th>1</th>\n",
       "      <td>attached</td>\n",
       "      <td>912</td>\n",
       "      <td>0.004895</td>\n",
       "    </tr>\n",
       "    <tr>\n",
       "      <th>2</th>\n",
       "      <td>available</td>\n",
       "      <td>995</td>\n",
       "      <td>0.005341</td>\n",
       "    </tr>\n",
       "    <tr>\n",
       "      <th>3</th>\n",
       "      <td>back</td>\n",
       "      <td>846</td>\n",
       "      <td>0.004541</td>\n",
       "    </tr>\n",
       "    <tr>\n",
       "      <th>4</th>\n",
       "      <td>best</td>\n",
       "      <td>1287</td>\n",
       "      <td>0.006908</td>\n",
       "    </tr>\n",
       "  </tbody>\n",
       "</table>\n",
       "</div>"
      ],
      "text/plain": [
       "        term  occurrences  frequency\n",
       "0       also         1863   0.010000\n",
       "1   attached          912   0.004895\n",
       "2  available          995   0.005341\n",
       "3       back          846   0.004541\n",
       "4       best         1287   0.006908"
      ]
     },
     "execution_count": 10,
     "metadata": {},
     "output_type": "execute_result"
    }
   ],
   "source": [
    "word_freq_df.head()"
   ]
  },
  {
   "cell_type": "markdown",
   "metadata": {},
   "source": [
    "TFiDF"
   ]
  },
  {
   "cell_type": "code",
   "execution_count": 11,
   "metadata": {},
   "outputs": [
    {
     "data": {
      "text/html": [
       "<div>\n",
       "<style scoped>\n",
       "    .dataframe tbody tr th:only-of-type {\n",
       "        vertical-align: middle;\n",
       "    }\n",
       "\n",
       "    .dataframe tbody tr th {\n",
       "        vertical-align: top;\n",
       "    }\n",
       "\n",
       "    .dataframe thead th {\n",
       "        text-align: right;\n",
       "    }\n",
       "</style>\n",
       "<table border=\"1\" class=\"dataframe\">\n",
       "  <thead>\n",
       "    <tr style=\"text-align: right;\">\n",
       "      <th></th>\n",
       "      <th>ability</th>\n",
       "      <th>able</th>\n",
       "      <th>access</th>\n",
       "      <th>account</th>\n",
       "      <th>accounting</th>\n",
       "      <th>act</th>\n",
       "      <th>action</th>\n",
       "      <th>activities</th>\n",
       "      <th>actual</th>\n",
       "      <th>add</th>\n",
       "      <th>...</th>\n",
       "      <th>writing</th>\n",
       "      <th>wrote</th>\n",
       "      <th>www</th>\n",
       "      <th>yahoo</th>\n",
       "      <th>year</th>\n",
       "      <th>years</th>\n",
       "      <th>yes</th>\n",
       "      <th>yesterday</th>\n",
       "      <th>york</th>\n",
       "      <th>zimin</th>\n",
       "    </tr>\n",
       "  </thead>\n",
       "  <tbody>\n",
       "    <tr>\n",
       "      <th>0</th>\n",
       "      <td>0.000000</td>\n",
       "      <td>0.00000</td>\n",
       "      <td>0.000000</td>\n",
       "      <td>0.0</td>\n",
       "      <td>0.000000</td>\n",
       "      <td>0.0</td>\n",
       "      <td>0.0</td>\n",
       "      <td>0.0</td>\n",
       "      <td>0.0</td>\n",
       "      <td>0.000000</td>\n",
       "      <td>...</td>\n",
       "      <td>0.000000</td>\n",
       "      <td>0.000000</td>\n",
       "      <td>0.000000</td>\n",
       "      <td>0.0</td>\n",
       "      <td>0.0</td>\n",
       "      <td>0.000000</td>\n",
       "      <td>0.00000</td>\n",
       "      <td>0.0</td>\n",
       "      <td>0.0</td>\n",
       "      <td>0.0</td>\n",
       "    </tr>\n",
       "    <tr>\n",
       "      <th>1</th>\n",
       "      <td>0.000000</td>\n",
       "      <td>0.00000</td>\n",
       "      <td>0.000000</td>\n",
       "      <td>0.0</td>\n",
       "      <td>0.000000</td>\n",
       "      <td>0.0</td>\n",
       "      <td>0.0</td>\n",
       "      <td>0.0</td>\n",
       "      <td>0.0</td>\n",
       "      <td>0.000000</td>\n",
       "      <td>...</td>\n",
       "      <td>0.000000</td>\n",
       "      <td>0.000000</td>\n",
       "      <td>0.000000</td>\n",
       "      <td>0.0</td>\n",
       "      <td>0.0</td>\n",
       "      <td>0.000000</td>\n",
       "      <td>0.65814</td>\n",
       "      <td>0.0</td>\n",
       "      <td>0.0</td>\n",
       "      <td>0.0</td>\n",
       "    </tr>\n",
       "    <tr>\n",
       "      <th>2</th>\n",
       "      <td>0.000000</td>\n",
       "      <td>0.00000</td>\n",
       "      <td>0.000000</td>\n",
       "      <td>0.0</td>\n",
       "      <td>0.000000</td>\n",
       "      <td>0.0</td>\n",
       "      <td>0.0</td>\n",
       "      <td>0.0</td>\n",
       "      <td>0.0</td>\n",
       "      <td>0.000000</td>\n",
       "      <td>...</td>\n",
       "      <td>0.000000</td>\n",
       "      <td>0.000000</td>\n",
       "      <td>0.000000</td>\n",
       "      <td>0.0</td>\n",
       "      <td>0.0</td>\n",
       "      <td>0.000000</td>\n",
       "      <td>0.00000</td>\n",
       "      <td>0.0</td>\n",
       "      <td>0.0</td>\n",
       "      <td>0.0</td>\n",
       "    </tr>\n",
       "    <tr>\n",
       "      <th>3</th>\n",
       "      <td>0.000000</td>\n",
       "      <td>0.00000</td>\n",
       "      <td>0.000000</td>\n",
       "      <td>0.0</td>\n",
       "      <td>0.000000</td>\n",
       "      <td>0.0</td>\n",
       "      <td>0.0</td>\n",
       "      <td>0.0</td>\n",
       "      <td>0.0</td>\n",
       "      <td>0.000000</td>\n",
       "      <td>...</td>\n",
       "      <td>0.000000</td>\n",
       "      <td>0.000000</td>\n",
       "      <td>0.000000</td>\n",
       "      <td>0.0</td>\n",
       "      <td>0.0</td>\n",
       "      <td>0.000000</td>\n",
       "      <td>0.00000</td>\n",
       "      <td>0.0</td>\n",
       "      <td>0.0</td>\n",
       "      <td>0.0</td>\n",
       "    </tr>\n",
       "    <tr>\n",
       "      <th>4</th>\n",
       "      <td>0.000000</td>\n",
       "      <td>0.00000</td>\n",
       "      <td>0.000000</td>\n",
       "      <td>0.0</td>\n",
       "      <td>0.000000</td>\n",
       "      <td>0.0</td>\n",
       "      <td>0.0</td>\n",
       "      <td>0.0</td>\n",
       "      <td>0.0</td>\n",
       "      <td>0.000000</td>\n",
       "      <td>...</td>\n",
       "      <td>0.000000</td>\n",
       "      <td>0.000000</td>\n",
       "      <td>0.000000</td>\n",
       "      <td>0.0</td>\n",
       "      <td>0.0</td>\n",
       "      <td>0.000000</td>\n",
       "      <td>0.00000</td>\n",
       "      <td>0.0</td>\n",
       "      <td>0.0</td>\n",
       "      <td>0.0</td>\n",
       "    </tr>\n",
       "    <tr>\n",
       "      <th>...</th>\n",
       "      <td>...</td>\n",
       "      <td>...</td>\n",
       "      <td>...</td>\n",
       "      <td>...</td>\n",
       "      <td>...</td>\n",
       "      <td>...</td>\n",
       "      <td>...</td>\n",
       "      <td>...</td>\n",
       "      <td>...</td>\n",
       "      <td>...</td>\n",
       "      <td>...</td>\n",
       "      <td>...</td>\n",
       "      <td>...</td>\n",
       "      <td>...</td>\n",
       "      <td>...</td>\n",
       "      <td>...</td>\n",
       "      <td>...</td>\n",
       "      <td>...</td>\n",
       "      <td>...</td>\n",
       "      <td>...</td>\n",
       "      <td>...</td>\n",
       "    </tr>\n",
       "    <tr>\n",
       "      <th>5723</th>\n",
       "      <td>0.000000</td>\n",
       "      <td>0.07628</td>\n",
       "      <td>0.000000</td>\n",
       "      <td>0.0</td>\n",
       "      <td>0.111377</td>\n",
       "      <td>0.0</td>\n",
       "      <td>0.0</td>\n",
       "      <td>0.0</td>\n",
       "      <td>0.0</td>\n",
       "      <td>0.000000</td>\n",
       "      <td>...</td>\n",
       "      <td>0.000000</td>\n",
       "      <td>0.000000</td>\n",
       "      <td>0.000000</td>\n",
       "      <td>0.0</td>\n",
       "      <td>0.0</td>\n",
       "      <td>0.000000</td>\n",
       "      <td>0.00000</td>\n",
       "      <td>0.0</td>\n",
       "      <td>0.0</td>\n",
       "      <td>0.0</td>\n",
       "    </tr>\n",
       "    <tr>\n",
       "      <th>5724</th>\n",
       "      <td>0.000000</td>\n",
       "      <td>0.00000</td>\n",
       "      <td>0.000000</td>\n",
       "      <td>0.0</td>\n",
       "      <td>0.000000</td>\n",
       "      <td>0.0</td>\n",
       "      <td>0.0</td>\n",
       "      <td>0.0</td>\n",
       "      <td>0.0</td>\n",
       "      <td>0.000000</td>\n",
       "      <td>...</td>\n",
       "      <td>0.000000</td>\n",
       "      <td>0.000000</td>\n",
       "      <td>0.000000</td>\n",
       "      <td>0.0</td>\n",
       "      <td>0.0</td>\n",
       "      <td>0.000000</td>\n",
       "      <td>0.00000</td>\n",
       "      <td>0.0</td>\n",
       "      <td>0.0</td>\n",
       "      <td>0.0</td>\n",
       "    </tr>\n",
       "    <tr>\n",
       "      <th>5725</th>\n",
       "      <td>0.000000</td>\n",
       "      <td>0.00000</td>\n",
       "      <td>0.000000</td>\n",
       "      <td>0.0</td>\n",
       "      <td>0.000000</td>\n",
       "      <td>0.0</td>\n",
       "      <td>0.0</td>\n",
       "      <td>0.0</td>\n",
       "      <td>0.0</td>\n",
       "      <td>0.000000</td>\n",
       "      <td>...</td>\n",
       "      <td>0.074526</td>\n",
       "      <td>0.067738</td>\n",
       "      <td>0.000000</td>\n",
       "      <td>0.0</td>\n",
       "      <td>0.0</td>\n",
       "      <td>0.000000</td>\n",
       "      <td>0.00000</td>\n",
       "      <td>0.0</td>\n",
       "      <td>0.0</td>\n",
       "      <td>0.0</td>\n",
       "    </tr>\n",
       "    <tr>\n",
       "      <th>5726</th>\n",
       "      <td>0.000000</td>\n",
       "      <td>0.00000</td>\n",
       "      <td>0.000000</td>\n",
       "      <td>0.0</td>\n",
       "      <td>0.000000</td>\n",
       "      <td>0.0</td>\n",
       "      <td>0.0</td>\n",
       "      <td>0.0</td>\n",
       "      <td>0.0</td>\n",
       "      <td>0.000000</td>\n",
       "      <td>...</td>\n",
       "      <td>0.000000</td>\n",
       "      <td>0.000000</td>\n",
       "      <td>0.000000</td>\n",
       "      <td>0.0</td>\n",
       "      <td>0.0</td>\n",
       "      <td>0.000000</td>\n",
       "      <td>0.00000</td>\n",
       "      <td>0.0</td>\n",
       "      <td>0.0</td>\n",
       "      <td>0.0</td>\n",
       "    </tr>\n",
       "    <tr>\n",
       "      <th>5727</th>\n",
       "      <td>0.161365</td>\n",
       "      <td>0.00000</td>\n",
       "      <td>0.120174</td>\n",
       "      <td>0.0</td>\n",
       "      <td>0.000000</td>\n",
       "      <td>0.0</td>\n",
       "      <td>0.0</td>\n",
       "      <td>0.0</td>\n",
       "      <td>0.0</td>\n",
       "      <td>0.076621</td>\n",
       "      <td>...</td>\n",
       "      <td>0.000000</td>\n",
       "      <td>0.000000</td>\n",
       "      <td>0.103176</td>\n",
       "      <td>0.0</td>\n",
       "      <td>0.0</td>\n",
       "      <td>0.060556</td>\n",
       "      <td>0.00000</td>\n",
       "      <td>0.0</td>\n",
       "      <td>0.0</td>\n",
       "      <td>0.0</td>\n",
       "    </tr>\n",
       "  </tbody>\n",
       "</table>\n",
       "<p>5728 rows × 1000 columns</p>\n",
       "</div>"
      ],
      "text/plain": [
       "       ability     able    access  account  accounting  act  action  \\\n",
       "0     0.000000  0.00000  0.000000      0.0    0.000000  0.0     0.0   \n",
       "1     0.000000  0.00000  0.000000      0.0    0.000000  0.0     0.0   \n",
       "2     0.000000  0.00000  0.000000      0.0    0.000000  0.0     0.0   \n",
       "3     0.000000  0.00000  0.000000      0.0    0.000000  0.0     0.0   \n",
       "4     0.000000  0.00000  0.000000      0.0    0.000000  0.0     0.0   \n",
       "...        ...      ...       ...      ...         ...  ...     ...   \n",
       "5723  0.000000  0.07628  0.000000      0.0    0.111377  0.0     0.0   \n",
       "5724  0.000000  0.00000  0.000000      0.0    0.000000  0.0     0.0   \n",
       "5725  0.000000  0.00000  0.000000      0.0    0.000000  0.0     0.0   \n",
       "5726  0.000000  0.00000  0.000000      0.0    0.000000  0.0     0.0   \n",
       "5727  0.161365  0.00000  0.120174      0.0    0.000000  0.0     0.0   \n",
       "\n",
       "      activities  actual       add  ...   writing     wrote       www  yahoo  \\\n",
       "0            0.0     0.0  0.000000  ...  0.000000  0.000000  0.000000    0.0   \n",
       "1            0.0     0.0  0.000000  ...  0.000000  0.000000  0.000000    0.0   \n",
       "2            0.0     0.0  0.000000  ...  0.000000  0.000000  0.000000    0.0   \n",
       "3            0.0     0.0  0.000000  ...  0.000000  0.000000  0.000000    0.0   \n",
       "4            0.0     0.0  0.000000  ...  0.000000  0.000000  0.000000    0.0   \n",
       "...          ...     ...       ...  ...       ...       ...       ...    ...   \n",
       "5723         0.0     0.0  0.000000  ...  0.000000  0.000000  0.000000    0.0   \n",
       "5724         0.0     0.0  0.000000  ...  0.000000  0.000000  0.000000    0.0   \n",
       "5725         0.0     0.0  0.000000  ...  0.074526  0.067738  0.000000    0.0   \n",
       "5726         0.0     0.0  0.000000  ...  0.000000  0.000000  0.000000    0.0   \n",
       "5727         0.0     0.0  0.076621  ...  0.000000  0.000000  0.103176    0.0   \n",
       "\n",
       "      year     years      yes  yesterday  york  zimin  \n",
       "0      0.0  0.000000  0.00000        0.0   0.0    0.0  \n",
       "1      0.0  0.000000  0.65814        0.0   0.0    0.0  \n",
       "2      0.0  0.000000  0.00000        0.0   0.0    0.0  \n",
       "3      0.0  0.000000  0.00000        0.0   0.0    0.0  \n",
       "4      0.0  0.000000  0.00000        0.0   0.0    0.0  \n",
       "...    ...       ...      ...        ...   ...    ...  \n",
       "5723   0.0  0.000000  0.00000        0.0   0.0    0.0  \n",
       "5724   0.0  0.000000  0.00000        0.0   0.0    0.0  \n",
       "5725   0.0  0.000000  0.00000        0.0   0.0    0.0  \n",
       "5726   0.0  0.000000  0.00000        0.0   0.0    0.0  \n",
       "5727   0.0  0.060556  0.00000        0.0   0.0    0.0  \n",
       "\n",
       "[5728 rows x 1000 columns]"
      ]
     },
     "execution_count": 11,
     "metadata": {},
     "output_type": "execute_result"
    }
   ],
   "source": [
    "from sklearn.feature_extraction.text import TfidfVectorizer\n",
    "vect = TfidfVectorizer(stop_words='english', max_features=1000, max_df = 0.5, smooth_idf=True)\n",
    "doc_vec = vect.fit_transform(email['text'])\n",
    "names_features = vect.get_feature_names()\n",
    "dense = doc_vec.todense()\n",
    "denselist = dense.tolist()\n",
    "\n",
    "df = pd.DataFrame(denselist, columns  = names_features)\n",
    "\n",
    "df"
   ]
  },
  {
   "cell_type": "markdown",
   "metadata": {},
   "source": [
    "Bi-Gram Function"
   ]
  },
  {
   "cell_type": "code",
   "execution_count": 12,
   "metadata": {},
   "outputs": [],
   "source": [
    "def get_top2_words(corpus, n=None):\n",
    "    vec1 = CountVectorizer(ngram_range=(2,2), max_features=1000).fit(corpus)\n",
    "    bow = vec1.transform(corpus)\n",
    "    sum_words = bow.sum(axis=0)\n",
    "    words_freq = [(word, sum_words[0,idx]) for word, idx in vec1.vocabulary_.items()]\n",
    "    words_freq = sorted(words_freq, key = lambda x:x[1], reverse = True)\n",
    "    return words_freq[:n]"
   ]
  },
  {
   "cell_type": "code",
   "execution_count": 13,
   "metadata": {},
   "outputs": [
    {
     "data": {
      "text/html": [
       "<div>\n",
       "<style scoped>\n",
       "    .dataframe tbody tr th:only-of-type {\n",
       "        vertical-align: middle;\n",
       "    }\n",
       "\n",
       "    .dataframe tbody tr th {\n",
       "        vertical-align: top;\n",
       "    }\n",
       "\n",
       "    .dataframe thead th {\n",
       "        text-align: right;\n",
       "    }\n",
       "</style>\n",
       "<table border=\"1\" class=\"dataframe\">\n",
       "  <thead>\n",
       "    <tr style=\"text-align: right;\">\n",
       "      <th></th>\n",
       "      <th>Bi-gram</th>\n",
       "      <th>Freq</th>\n",
       "    </tr>\n",
       "  </thead>\n",
       "  <tbody>\n",
       "    <tr>\n",
       "      <th>0</th>\n",
       "      <td>hou ect</td>\n",
       "      <td>5227</td>\n",
       "    </tr>\n",
       "    <tr>\n",
       "      <th>1</th>\n",
       "      <td>ect ect</td>\n",
       "      <td>4881</td>\n",
       "    </tr>\n",
       "    <tr>\n",
       "      <th>2</th>\n",
       "      <td>vince kaminski</td>\n",
       "      <td>3990</td>\n",
       "    </tr>\n",
       "    <tr>\n",
       "      <th>3</th>\n",
       "      <td>enron com</td>\n",
       "      <td>2090</td>\n",
       "    </tr>\n",
       "    <tr>\n",
       "      <th>4</th>\n",
       "      <td>cc subject</td>\n",
       "      <td>2062</td>\n",
       "    </tr>\n",
       "  </tbody>\n",
       "</table>\n",
       "</div>"
      ],
      "text/plain": [
       "          Bi-gram  Freq\n",
       "0         hou ect  5227\n",
       "1         ect ect  4881\n",
       "2  vince kaminski  3990\n",
       "3       enron com  2090\n",
       "4      cc subject  2062"
      ]
     },
     "execution_count": 13,
     "metadata": {},
     "output_type": "execute_result"
    }
   ],
   "source": [
    "top2_words = get_top2_words(email['text'], n = 200)\n",
    "top2_df = pd.DataFrame(top2_words)\n",
    "top2_df.columns=['Bi-gram', \"Freq\"]\n",
    "top2_df.head()"
   ]
  },
  {
   "cell_type": "code",
   "execution_count": 14,
   "metadata": {},
   "outputs": [
    {
     "data": {
      "text/plain": [
       "[Text(0, 0, 'hou ect'),\n",
       " Text(1, 0, 'ect ect'),\n",
       " Text(2, 0, 'vince kaminski'),\n",
       " Text(3, 0, 'enron com'),\n",
       " Text(4, 0, 'cc subject'),\n",
       " Text(5, 0, 'kaminski hou'),\n",
       " Text(6, 0, 'ect cc'),\n",
       " Text(7, 0, 'enron enron'),\n",
       " Text(8, 0, 'let know'),\n",
       " Text(9, 0, 'would like'),\n",
       " Text(10, 0, 'shirley crenshaw'),\n",
       " Text(11, 0, 'enron communications'),\n",
       " Text(12, 0, 'corp enron'),\n",
       " Text(13, 0, 'http www'),\n",
       " Text(14, 0, 'please let'),\n",
       " Text(15, 0, 'kaminski enron'),\n",
       " Text(16, 0, 'com cc'),\n",
       " Text(17, 0, 'ect subject'),\n",
       " Text(18, 0, 'lon ect'),\n",
       " Text(19, 0, 'research group')]"
      ]
     },
     "execution_count": 14,
     "metadata": {},
     "output_type": "execute_result"
    },
    {
     "data": {
      "image/png": "[encoded data removed]",
      "text/plain": [
       "<Figure size 720x360 with 1 Axes>"
      ]
     },
     "metadata": {
      "needs_background": "light"
     },
     "output_type": "display_data"
    }
   ],
   "source": [
    "#Bi-gram plot\n",
    "import matplotlib.pyplot as plt\n",
    "import seaborn as sns\n",
    "top20_bigram = top2_df.iloc[0:20,:]\n",
    "fig = plt.figure(figsize = (10,5))\n",
    "plot = sns.barplot(x = top20_bigram['Bi-gram'], y = top20_bigram['Freq'])\n",
    "plot.set_xticklabels(rotation = 45, labels = top20_bigram['Bi-gram'])"
   ]
  },
  {
   "cell_type": "markdown",
   "metadata": {},
   "source": [
    "Tri-Gram"
   ]
  },
  {
   "cell_type": "code",
   "execution_count": 15,
   "metadata": {},
   "outputs": [],
   "source": [
    "def get_top_n3_words(corpus, n=None):\n",
    "    vec1 = CountVectorizer(ngram_range=(3,3), max_features=2000).fit(corpus)\n",
    "    bow = vec1.transform(corpus)\n",
    "    sum_words = bow.sum(axis=0)\n",
    "    words_freq = [(word, sum_words[0,idx]) for word, idx in vec1.vocabulary_.items()]\n",
    "    words_freq = sorted(words_freq, key = lambda x:x[1], reverse = True)\n",
    "    return words_freq[:n]"
   ]
  },
  {
   "cell_type": "code",
   "execution_count": 16,
   "metadata": {},
   "outputs": [
    {
     "data": {
      "text/html": [
       "<div>\n",
       "<style scoped>\n",
       "    .dataframe tbody tr th:only-of-type {\n",
       "        vertical-align: middle;\n",
       "    }\n",
       "\n",
       "    .dataframe tbody tr th {\n",
       "        vertical-align: top;\n",
       "    }\n",
       "\n",
       "    .dataframe thead th {\n",
       "        text-align: right;\n",
       "    }\n",
       "</style>\n",
       "<table border=\"1\" class=\"dataframe\">\n",
       "  <thead>\n",
       "    <tr style=\"text-align: right;\">\n",
       "      <th></th>\n",
       "      <th>Tri-gram</th>\n",
       "      <th>Freq</th>\n",
       "    </tr>\n",
       "  </thead>\n",
       "  <tbody>\n",
       "    <tr>\n",
       "      <th>0</th>\n",
       "      <td>hou ect ect</td>\n",
       "      <td>4118</td>\n",
       "    </tr>\n",
       "    <tr>\n",
       "      <th>1</th>\n",
       "      <td>vince kaminski hou</td>\n",
       "      <td>1778</td>\n",
       "    </tr>\n",
       "    <tr>\n",
       "      <th>2</th>\n",
       "      <td>kaminski hou ect</td>\n",
       "      <td>1778</td>\n",
       "    </tr>\n",
       "    <tr>\n",
       "      <th>3</th>\n",
       "      <td>ect ect cc</td>\n",
       "      <td>1525</td>\n",
       "    </tr>\n",
       "    <tr>\n",
       "      <th>4</th>\n",
       "      <td>please let know</td>\n",
       "      <td>868</td>\n",
       "    </tr>\n",
       "  </tbody>\n",
       "</table>\n",
       "</div>"
      ],
      "text/plain": [
       "             Tri-gram  Freq\n",
       "0         hou ect ect  4118\n",
       "1  vince kaminski hou  1778\n",
       "2    kaminski hou ect  1778\n",
       "3          ect ect cc  1525\n",
       "4     please let know   868"
      ]
     },
     "execution_count": 16,
     "metadata": {},
     "output_type": "execute_result"
    }
   ],
   "source": [
    "top3_words = get_top_n3_words(email['text'], n = 200)\n",
    "top3_df = pd.DataFrame(top3_words)\n",
    "top3_df.columns=['Tri-gram', \"Freq\"]\n",
    "top3_df.head()"
   ]
  },
  {
   "cell_type": "code",
   "execution_count": 17,
   "metadata": {},
   "outputs": [
    {
     "data": {
      "text/plain": [
       "[Text(0, 0, 'hou ect ect'),\n",
       " Text(1, 0, 'vince kaminski hou'),\n",
       " Text(2, 0, 'kaminski hou ect'),\n",
       " Text(3, 0, 'ect ect cc'),\n",
       " Text(4, 0, 'please let know'),\n",
       " Text(5, 0, 'ect cc subject'),\n",
       " Text(6, 0, 'corp enron enron'),\n",
       " Text(7, 0, 'vince kaminski enron'),\n",
       " Text(8, 0, 'ect ect subject'),\n",
       " Text(9, 0, 'lon ect ect'),\n",
       " Text(10, 0, 'enron com cc'),\n",
       " Text(11, 0, 'kaminski enron com'),\n",
       " Text(12, 0, 'cc vince kaminski'),\n",
       " Text(13, 0, 'pm vince kaminski'),\n",
       " Text(14, 0, 'com cc subject'),\n",
       " Text(15, 0, 'hou ect pm'),\n",
       " Text(16, 0, 'enron communications enron'),\n",
       " Text(17, 0, 'shirley crenshaw hou'),\n",
       " Text(18, 0, 'crenshaw hou ect'),\n",
       " Text(19, 0, 'communications enron communications')]"
      ]
     },
     "execution_count": 17,
     "metadata": {},
     "output_type": "execute_result"
    },
    {
     "data": {
      "image/png": "[encoded data removed]",
      "text/plain": [
       "<Figure size 720x360 with 1 Axes>"
      ]
     },
     "metadata": {
      "needs_background": "light"
     },
     "output_type": "display_data"
    }
   ],
   "source": [
    "top20_trigram = top3_df.iloc[0:20,:]\n",
    "fig = plt.figure(figsize = (10,5))\n",
    "plot = sns.barplot(x = top20_trigram['Tri-gram'], y = top20_trigram['Freq'])\n",
    "plot.set_xticklabels(rotation = 45, labels = top20_trigram['Tri-gram'])"
   ]
  },
  {
   "cell_type": "code",
   "execution_count": 20,
   "metadata": {},
   "outputs": [
    {
     "data": {
      "text/plain": [
       "'string_Total = \"\".join(email[\\'text\\'])\\n#wordcloud for entire corpus. \\nfrom wordcloud import WordCloud\\nwordcloud_stw = WordCloud(\\n    background_color= \\'black\\',\\n    width = 1800,\\n    height = 1500).generate(string_Total)\\n\\nplt.imshow(wordcloud_stw)'"
      ]
     },
     "execution_count": 20,
     "metadata": {},
     "output_type": "execute_result"
    }
   ],
   "source": [
    "'''string_Total = \"\".join(email['text'])\n",
    "#wordcloud for entire corpus. \n",
    "from wordcloud import WordCloud\n",
    "wordcloud_stw = WordCloud(\n",
    "    background_color= 'black',\n",
    "    width = 1800,\n",
    "    height = 1500).generate(string_Total)\n",
    "\n",
    "plt.imshow(wordcloud_stw)'''\n"
   ]
  },
  {
   "cell_type": "code",
   "execution_count": 21,
   "metadata": {},
   "outputs": [],
   "source": [
    "def split_into_words(i):\n",
    "    return (i.split(\" \"))"
   ]
  },
  {
   "cell_type": "code",
   "execution_count": 22,
   "metadata": {},
   "outputs": [],
   "source": [
    "from sklearn.model_selection import train_test_split\n",
    "\n",
    "email_train, email_test = train_test_split(email, test_size = 0.30)\n"
   ]
  },
  {
   "cell_type": "code",
   "execution_count": 23,
   "metadata": {},
   "outputs": [],
   "source": [
    "#Create the count vectorizer. \n",
    "#preparing email texts into word count matric format. \n",
    "email_bow = CountVectorizer(analyzer= split_into_words).fit(email.text)"
   ]
  },
  {
   "cell_type": "code",
   "execution_count": 24,
   "metadata": {},
   "outputs": [
    {
     "data": {
      "text/plain": [
       "(5728, 33564)"
      ]
     },
     "execution_count": 24,
     "metadata": {},
     "output_type": "execute_result"
    }
   ],
   "source": [
    " #Transform the data and put it under a new variable. \n",
    " all_email_matrix = email_bow.transform(email.text)\n",
    " all_email_matrix.shape"
   ]
  },
  {
   "cell_type": "code",
   "execution_count": 25,
   "metadata": {},
   "outputs": [
    {
     "data": {
      "text/plain": [
       "(4009, 33564)"
      ]
     },
     "execution_count": 25,
     "metadata": {},
     "output_type": "execute_result"
    }
   ],
   "source": [
    "#for training messages\n",
    "train_email_matrix  = email_bow.transform(email_train.text)\n",
    "train_email_matrix.shape"
   ]
  },
  {
   "cell_type": "code",
   "execution_count": 28,
   "metadata": {},
   "outputs": [
    {
     "data": {
      "text/plain": [
       "(1719, 33564)"
      ]
     },
     "execution_count": 28,
     "metadata": {},
     "output_type": "execute_result"
    }
   ],
   "source": [
    "test_email_matrix = email_bow.transform(email_test.text)\n",
    "test_email_matrix.shape"
   ]
  },
  {
   "cell_type": "code",
   "execution_count": 29,
   "metadata": {},
   "outputs": [
    {
     "name": "stdout",
     "output_type": "stream",
     "text": [
      "0.9970067348465952\n",
      "0.9918557300756253\n"
     ]
    }
   ],
   "source": [
    "#prep naive bayes model on training data set\n",
    "#Without TFiDf matrices \n",
    "#Building it using MultinomialNB and GaussianNB\n",
    "from sklearn.naive_bayes import MultinomialNB as MB\n",
    "from sklearn.naive_bayes import GaussianNB as GB \n",
    "\n",
    "classifier_mb = MB()\n",
    "classifier_mb.fit(train_email_matrix, email_train.spam)\n",
    "train_pred_m = classifier_mb.predict(train_email_matrix)\n",
    "score_train_MB = classifier_mb.score(train_email_matrix, email_train.spam)\n",
    "print(score_train_MB)\n",
    "\n",
    "test_pred_mb = classifier_mb.predict(test_email_matrix)\n",
    "score_test_MB = classifier_mb.score(test_email_matrix, email_test.spam)\n",
    "print(score_test_MB)\n",
    "\n",
    "\n"
   ]
  },
  {
   "cell_type": "code",
   "execution_count": 30,
   "metadata": {},
   "outputs": [
    {
     "name": "stdout",
     "output_type": "stream",
     "text": [
      "0.9955101022698928\n"
     ]
    }
   ],
   "source": [
    "#Gaussian Naive Bayes\n",
    "classifier_gb = GB()\n",
    "classifier_gb.fit(train_email_matrix.toarray(), email_train.spam.values) #  need to convert tfidf into array format which id compatible \n",
    "train_pred_g = classifier_gb.predict(train_email_matrix.toarray())\n",
    "\n",
    "train_score_g = np.mean(train_pred_g == email_train.spam)\n",
    "\n",
    "print(train_score_g)\n"
   ]
  },
  {
   "cell_type": "code",
   "execution_count": 31,
   "metadata": {},
   "outputs": [
    {
     "name": "stdout",
     "output_type": "stream",
     "text": [
      "0.9616055846422339\n"
     ]
    }
   ],
   "source": [
    "\n",
    "test_pred_g = classifier_gb.predict(test_email_matrix.toarray())\n",
    "score_test_g = np.mean(test_pred_g ==email_test.spam)\n",
    " \n",
    "print(score_test_g)"
   ]
  },
  {
   "cell_type": "markdown",
   "metadata": {},
   "source": [
    "MB and GB with TFiDF"
   ]
  },
  {
   "cell_type": "code",
   "execution_count": 32,
   "metadata": {},
   "outputs": [],
   "source": [
    "from sklearn.feature_extraction.text import TfidfTransformer\n",
    "\n",
    "tfidf = TfidfTransformer().fit(all_email_matrix)\n",
    "\n",
    "train_tfidf = tfidf.transform(train_email_matrix)\n",
    "\n",
    "test_tfidf = tfidf.transform(test_email_matrix)\n",
    "\n"
   ]
  },
  {
   "cell_type": "code",
   "execution_count": 33,
   "metadata": {},
   "outputs": [
    {
     "name": "stdout",
     "output_type": "stream",
     "text": [
      "0.9266650037415815\n",
      "0.9016870273414777\n"
     ]
    }
   ],
   "source": [
    "#MB\n",
    "classifier_mb = MB()\n",
    "classifier_mb.fit(train_tfidf, email_train.spam)\n",
    "train_tfidf_pred_m = classifier_mb.predict(train_tfidf)\n",
    "\n",
    "score_train_tfidf_MB = np.mean(train_tfidf_pred_m==email_train.spam)\n",
    "print(score_train_tfidf_MB)\n",
    "\n",
    "test_tfidf_pred_mb = classifier_mb.predict(test_tfidf)\n",
    "score_test_tfidf_MB = np.mean(test_tfidf_pred_mb == email_test.spam)\n",
    "print(score_test_tfidf_MB)"
   ]
  },
  {
   "cell_type": "code",
   "execution_count": 34,
   "metadata": {},
   "outputs": [
    {
     "name": "stdout",
     "output_type": "stream",
     "text": [
      "0.9975056123721626\n",
      "0.9604421175101804\n"
     ]
    }
   ],
   "source": [
    " #GB\n",
    "classifier_gb = GB()\n",
    "classifier_gb.fit(train_tfidf.toarray(), email_train.spam.values) #  need to convert tfidf into array format which id compatible \n",
    "train_tfidf_pred_g = classifier_gb.predict(train_tfidf.toarray())\n",
    "\n",
    "train_tfidf_score_g = np.mean(train_tfidf_pred_g == email_train.spam)\n",
    "\n",
    "print(train_tfidf_score_g)\n",
    "\n",
    "\n",
    "test_tfidf_pred_g = classifier_gb.predict(test_tfidf.toarray())\n",
    "test_tfidf_score_g = np.mean(test_tfidf_pred_g == email_test.spam)\n",
    "print(test_tfidf_score_g)\n",
    "\n"
   ]
  }
 ],
 "metadata": {
  "interpreter": {
   "hash": "aa9842d1c1315e4ba4e499442ba20d43fb13b60c615e2e67f23fa7ce3501b665"
  },
  "kernelspec": {
   "display_name": "Python 3.8.8 64-bit ('base': conda)",
   "language": "python",
   "name": "python3"
  },
  "language_info": {
   "codemirror_mode": {
    "name": "ipython",
    "version": 3
   },
   "file_extension": ".py",
   "mimetype": "text/x-python",
   "name": "python",
   "nbconvert_exporter": "python",
   "pygments_lexer": "ipython3",
   "version": "3.9.7"
  },
  "orig_nbformat": 4
 },
 "nbformat": 4,
 "nbformat_minor": 2
}
